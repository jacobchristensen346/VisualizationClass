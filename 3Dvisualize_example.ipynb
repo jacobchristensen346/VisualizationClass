{
 "cells": [
  {
   "cell_type": "code",
   "execution_count": 1,
   "metadata": {},
   "outputs": [],
   "source": [
    "# here is the visualize code\n",
    "\n",
    "\"\"\"class to slice through three-dimensional data\"\"\"\n",
    "\n",
    "import numpy as np\n",
    "from scipy.interpolate import interpn\n",
    "\n",
    "class Visualize:\n",
    "    \"\"\"create object containing three-dimensional data\n",
    "    \n",
    "    Args:\n",
    "        m (numpy array): signal array (3D)\n",
    "        x (numpy array): x-dimension coordinates (1D)\n",
    "        y (numpy array): y-dimension coordinates (1D)\n",
    "        z (numpy array): z-dimension coordinates (1D)\n",
    "    \"\"\"\n",
    "    def __init__(self, m=None, x=None, y=None, z=None):\n",
    "            \n",
    "        self.m = m\n",
    "        self.x = x\n",
    "        self.y = y\n",
    "        self.z = z\n",
    "        if m is None:\n",
    "            self.m = np.array([])\n",
    "        if x is None:\n",
    "            self.x = np.array([])\n",
    "        if y is None:\n",
    "            self.y = np.array([])\n",
    "        if z is None:\n",
    "            self.z = np.array([])\n",
    "        \n",
    "    def three_points(self, p1, p2, p3):\n",
    "        \"\"\"find normal vector to the plane created by the three given points\n",
    "        \"\"\"\n",
    "        \n",
    "        # find two vectors from the three points which lie on the desired plane\n",
    "        vec1 = p2 - p1\n",
    "        vec2 = p3 - p1\n",
    "        # now cross these two vectors to find a vector normal to the plane\n",
    "        normal = np.cross(vec1, vec2)\n",
    "    \n",
    "        # now calculate the centroid of the three points given\n",
    "        x_pos = (p1[0] + p2[0] + p3[0]) / 3\n",
    "        y_pos = (p1[1] + p2[1] + p3[1]) / 3\n",
    "        z_pos = (p1[2] + p2[2] + p3[2]) / 3\n",
    "        cen_pt = np.array([x_pos, y_pos, z_pos])\n",
    "        print('Center Point:', cen_pt)\n",
    "        \n",
    "        return normal, cen_pt\n",
    "    \n",
    "    def make_slice(self, len_a=None, len_b=None, dr=None, use_norm=None, \n",
    "                   cen_pt=None, normal=None, p1=None, p2=None, p3=None):\n",
    "        \"\"\"generate a slice through the dataset\n",
    "        \n",
    "        Args:\n",
    "            side_len (float): the side length of the square slice to be taken through the data\n",
    "            dr (float): determines the spacing of the grid (if dr=0.5, then there are 2 measurements every unit)\n",
    "            use_norm (boolean): when True, will create slice from a normal vector and center point. When\n",
    "                False, will create slice from three points\n",
    "            cen_pt (numpy array): the center of the desired slice. Used when use_norm is True\n",
    "            normal (numpy array): the normal vector to desired plane. Used when use_norm is True\n",
    "            p1, p2, p3 (numpy array): three points in 3D space. The desired plane goes through these points.\n",
    "                Used when use_norm is False\n",
    "            \n",
    "        Returns:\n",
    "            2D array, along with space arrays, representing slice through 3D dataset\n",
    "        \"\"\"\n",
    "        if dr is None:\n",
    "            dr = 1\n",
    "        if use_norm is None:\n",
    "            use_norm = True\n",
    "        if len_a is None:\n",
    "            len_a = 10\n",
    "        if len_b is None:\n",
    "            len_b = 10\n",
    "        if cen_pt is None:\n",
    "            cen_pt = np.array([0, 0, 0])\n",
    "        if normal is None:\n",
    "            normal = np.array([1, 0, 0])\n",
    "        if p1 is None:\n",
    "            p1 = np.array([0, 1, 0])\n",
    "        if p2 is None:\n",
    "            p2 = np.array([1, 0, 0])\n",
    "        if p3 is None:\n",
    "            p3 = np.array([0, 0, 1])\n",
    "        \n",
    "        # First check if use_norm is False. If so, access three_points function \n",
    "            # to calculate the normal and cen_pt of the desired plane\n",
    "        if use_norm is False:\n",
    "            normal, cen_pt = self.three_points(p1, p2, p3)\n",
    "         \n",
    "        # ensure that our basis vector v1 is not the same as normal\n",
    "        v1 = np.array([1, 0, 0])\n",
    "        if np.allclose(v1, normal):\n",
    "            v1 = np.array([0, 1, 0])\n",
    "    \n",
    "        # now make a matrix which will reflect any vector onto the orthogonal\n",
    "            # complement of the normal vec, which is our desired plane\n",
    "        # This is done by subtracting from the vector its component along the normal vector\n",
    "        m_norm = np.eye(3) - (np.outer(normal, normal.T) / normal.T.dot(normal))\n",
    "        \n",
    "        # now reflect v1 using m_norm\n",
    "        v1 = m_norm.dot(v1)\n",
    "        # and create a new vector v2 that is orthogonal to both v1 and normal\n",
    "        v2 = np.cross(normal, v1)\n",
    "        # we now have 2 vectors to form our plane\n",
    "    \n",
    "        # now create and normalize Q, which will rotate an arbitrary \n",
    "            # slice to the orientation we desire\n",
    "        Q = np.column_stack((v1, v2, np.zeros_like(v1)))\n",
    "        Q[:,:2] /= np.linalg.norm(Q[:,:2], axis = 0)\n",
    "    \n",
    "        # now create an arbitrary slice\n",
    "        a = np.arange(-len_a / 2, len_a / 2, dr)\n",
    "        b = np.arange(-len_b / 2, len_b / 2, dr)\n",
    "        a = np.append(a, len_a / 2)\n",
    "        b = np.append(b, len_b / 2)\n",
    "        A,B = np.meshgrid(a, b)\n",
    "        locations = np.array([A.reshape(-1), B.reshape(-1), np.zeros(A.size)])  # the slice starts on the x-y plane\n",
    "        # now move locations onto our two vectors, and add cen_pt to move slice into position\n",
    "        locations = Q.dot(locations).T + (cen_pt)\n",
    "    \n",
    "        # now we need to interpolate our 3Dmpdf function over this slice\n",
    "        points = (self.x, self.y, self.z)\n",
    "        interp = interpn(points, self.m, locations)  # list of values of 3Dmpdf at locations\n",
    "        slice1 = interp.reshape(len(b),len(a))\n",
    "        \n",
    "        return slice1, a, b"
   ]
  },
  {
   "cell_type": "code",
   "execution_count": 2,
   "metadata": {},
   "outputs": [],
   "source": [
    "import matplotlib.pyplot as plt\n",
    "\n",
    "# load in your signal array and its 1D space arrays\n",
    "# here is an example with a 3D array of a gaussian function\n",
    "\n",
    "x = np.linspace(-20, 20, 200)\n",
    "y = np.linspace(-20, 20, 200)\n",
    "z = np.linspace(-20, 20, 200)\n",
    "XX, YY, ZZ = np.meshgrid(x, y, z) \n",
    "signal_data = np.exp(-(XX**2 + YY**2 + ZZ**2))"
   ]
  },
  {
   "cell_type": "code",
   "execution_count": 3,
   "metadata": {},
   "outputs": [],
   "source": [
    "# first create the object, with the signal data and three arrays for its grid\n",
    "\n",
    "obj=Visualize(signal_data, x, y, z)\n",
    "\n",
    "# use make_slice function to create a slice to be viewed\n",
    "# the first two arguments are the side lengths of the rectangular slice\n",
    "# the third argument is the spacing of the grid (if dr=0.5, then there are 2 measurements every unit length)\n",
    "# the fourth argument, when true, allows a vector normal to a plane be used to designate the desired slice orientation\n",
    "# if the fourth argument is false, use three points to designate the plane instead\n",
    "# the last two arguments are two points which give us the normal vector, starting at the first point, ending at the second"
   ]
  },
  {
   "cell_type": "code",
   "execution_count": 4,
   "metadata": {},
   "outputs": [
    {
     "data": {
      "text/plain": [
       "<matplotlib.image.AxesImage at 0x1f78bdf81f0>"
      ]
     },
     "execution_count": 4,
     "metadata": {},
     "output_type": "execute_result"
    },
    {
     "data": {
      "image/png": "[encoded data removed]",
      "text/plain": [
       "<Figure size 432x288 with 1 Axes>"
      ]
     },
     "metadata": {
      "needs_background": "light"
     },
     "output_type": "display_data"
    }
   ],
   "source": [
    "# as an example, here we designate a slice with side lengths of 5 units each, a resolution of \n",
    "# 10 measurments every unit length, and for the slice to be centered on the origin and taken through the xz plane\n",
    "\n",
    "plane, xx, yy = obj.make_slice(5, 5, 0.1, True, np.array([0, 0, 0]), np.array([0, 1, 0]))\n",
    "\n",
    "# \"plane\" is the array of values for the slice\n",
    "# \"xx\" and \"yy\" are the space arrays for the slice\n",
    "\n",
    "# here is the slice plotted\n",
    "\n",
    "plt.imshow(plane, extent = [min(xx), max(xx), min(yy), max(yy)])"
   ]
  },
  {
   "cell_type": "code",
   "execution_count": 5,
   "metadata": {},
   "outputs": [
    {
     "name": "stdout",
     "output_type": "stream",
     "text": [
      "Center Point: [0. 0. 0.]\n"
     ]
    },
    {
     "data": {
      "text/plain": [
       "<matplotlib.image.AxesImage at 0x1f78bed7eb0>"
      ]
     },
     "execution_count": 5,
     "metadata": {},
     "output_type": "execute_result"
    },
    {
     "data": {
      "image/png": "[encoded data removed]",
      "text/plain": [
       "<Figure size 432x288 with 1 Axes>"
      ]
     },
     "metadata": {
      "needs_background": "light"
     },
     "output_type": "display_data"
    }
   ],
   "source": [
    "# here is an example using three points instead of the normal vector\n",
    "# the center point of the three points given (shown in output) will be the center of the slice\n",
    "\n",
    "plane, xx, yy = obj.make_slice(5, 5, 0.1, False, p1 = np.array([0, 0, 4]),\n",
    "                               p2 = np.array([-3, 0, -2]), p3 = np.array([3, 0, -2]))\n",
    "\n",
    "# here is the slice plotted\n",
    "\n",
    "plt.imshow(plane, extent = [min(xx), max(xx), min(yy), max(yy)])"
   ]
  },
  {
   "cell_type": "code",
   "execution_count": 6,
   "metadata": {},
   "outputs": [
    {
     "name": "stdout",
     "output_type": "stream",
     "text": [
      "Center Point: [1.         1.33333333 0.33333333]\n"
     ]
    },
    {
     "data": {
      "text/plain": [
       "<matplotlib.image.AxesImage at 0x1f78bf3b2b0>"
      ]
     },
     "execution_count": 6,
     "metadata": {},
     "output_type": "execute_result"
    },
    {
     "data": {
      "image/png": "[encoded data removed]",
      "text/plain": [
       "<Figure size 432x288 with 1 Axes>"
      ]
     },
     "metadata": {
      "needs_background": "light"
     },
     "output_type": "display_data"
    }
   ],
   "source": [
    "# any slice size, orientation, and position can be taken, as long as\n",
    "# it is within the bounds of the signal array\n",
    "\n",
    "plane, xx, yy = obj.make_slice(5, 5, 0.1, False, p1 = np.array([3, 4, 4]),\n",
    "                               p2 = np.array([-2, 0, 1]), p3 = np.array([2, 0, -4]))\n",
    "\n",
    "plt.imshow(plane, extent = [min(xx), max(xx), min(yy), max(yy)])"
   ]
  }
 ],
 "metadata": {
  "kernelspec": {
   "display_name": "Python 3",
   "language": "python",
   "name": "python3"
  },
  "language_info": {
   "codemirror_mode": {
    "name": "ipython",
    "version": 3
   },
   "file_extension": ".py",
   "mimetype": "text/x-python",
   "name": "python",
   "nbconvert_exporter": "python",
   "pygments_lexer": "ipython3",
   "version": "3.8.8"
  }
 },
 "nbformat": 4,
 "nbformat_minor": 2
}
